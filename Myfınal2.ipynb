{
 "cells": [
  {
   "cell_type": "code",
   "execution_count": 1,
   "id": "renewable-tamil",
   "metadata": {},
   "outputs": [
    {
     "name": "stderr",
     "output_type": "stream",
     "text": [
      "Using TensorFlow backend.\n"
     ]
    }
   ],
   "source": [
    "#Kütüphaneler çağırmak\n",
    "import numpy as np\n",
    "import pandas as pd\n",
    "from sklearn.model_selection import train_test_split\n",
    "from sklearn.neural_network import MLPClassifier\n",
    "from sklearn.metrics import confusion_matrix, classification_report, accuracy_score\n",
    "from sklearn.model_selection import KFold\n",
    "from sklearn.model_selection import GridSearchCV\n",
    "import sklearn.metrics as metrics\n",
    "import matplotlib.pyplot as plt\n",
    "import keras\n",
    "from keras.models import Sequential\n",
    "from keras.layers import Dense, Activation, Dropout, Flatten, Conv2D,MaxPool2D,BatchNormalization"
   ]
  },
  {
   "cell_type": "code",
   "execution_count": 2,
   "id": "cheap-munich",
   "metadata": {},
   "outputs": [
    {
     "name": "stdout",
     "output_type": "stream",
     "text": [
      "<class 'pandas.core.frame.DataFrame'>\n",
      "RangeIndex: 1385 entries, 0 to 1384\n",
      "Data columns (total 13 columns):\n",
      " #   Column                           Non-Null Count  Dtype\n",
      "---  ------                           --------------  -----\n",
      " 0   Age                              1385 non-null   int64\n",
      " 1   Gender                           1385 non-null   int64\n",
      " 2   BMI                              1385 non-null   int64\n",
      " 3   Fever                            1385 non-null   int64\n",
      " 4   Nausea/Vomting                   1385 non-null   int64\n",
      " 5   Headache                         1385 non-null   int64\n",
      " 6   Diarrhea                         1385 non-null   int64\n",
      " 7   Fatigue & generalized bone ache  1385 non-null   int64\n",
      " 8   Jaundice                         1385 non-null   int64\n",
      " 9   Epigastric pain                  1385 non-null   int64\n",
      " 10  HGB                              1385 non-null   int64\n",
      " 11  AST 1                            1385 non-null   int64\n",
      " 12  Baselinehistological             1385 non-null   int64\n",
      "dtypes: int64(13)\n",
      "memory usage: 140.8 KB\n",
      "None\n"
     ]
    }
   ],
   "source": [
    "#Veri seti okumak\n",
    "df=pd.read_csv(\"HCV_Egy.csv\")\n",
    "\n",
    "print(df.info())\n",
    "\n",
    "#Define X & Y\n",
    "y=df.Baselinehistological.values\n",
    "x_data=df.drop([\"Baselinehistological\"],axis=1)"
   ]
  },
  {
   "cell_type": "code",
   "execution_count": 3,
   "id": "sharp-coach",
   "metadata": {},
   "outputs": [],
   "source": [
    "#Normalzasiyon\n",
    "x=(x_data-np.min(x_data))/(np.max(x_data)-np.min(x_data))\n",
    "\n",
    "#Split test & train\n",
    "x_train, x_test, y_train, y_test=train_test_split(x,y,test_size=0.2,random_state=1)\n"
   ]
  },
  {
   "cell_type": "code",
   "execution_count": 4,
   "id": "threaded-medium",
   "metadata": {},
   "outputs": [
    {
     "name": "stdout",
     "output_type": "stream",
     "text": [
      "mlpc score: 0.20216606498194944\n"
     ]
    },
    {
     "name": "stderr",
     "output_type": "stream",
     "text": [
      "C:\\Users\\saamm\\anaconda3\\envs\\tensorflow_env\\lib\\site-packages\\sklearn\\neural_network\\_multilayer_perceptron.py:585: ConvergenceWarning: Stochastic Optimizer: Maximum iterations (200) reached and the optimization hasn't converged yet.\n",
      "  % self.max_iter, ConvergenceWarning)\n"
     ]
    }
   ],
   "source": [
    "#MLPC skor hesaplamak\n",
    "mlpc=MLPClassifier(random_state=1)\n",
    "mlpc.fit(x_train,y_train)\n",
    "print(\"mlpc score:\",mlpc.score(x_test,y_test)) "
   ]
  },
  {
   "cell_type": "code",
   "execution_count": 5,
   "id": "drawn-chinese",
   "metadata": {},
   "outputs": [
    {
     "name": "stdout",
     "output_type": "stream",
     "text": [
      "mlpc score: 0.296028880866426\n"
     ]
    }
   ],
   "source": [
    "#MLPC yi daha iyi sonuç almak için farklı parametreler denemek \n",
    "mlpc=MLPClassifier(random_state=1,solver=\"lbfgs\",activation=\"identity\",alpha=0.1,max_iter=2000,hidden_layer_sizes=(50,50,50))\n",
    "mlpc.fit(x_train,y_train)\n",
    "print(\"mlpc score:\",mlpc.score(x_test,y_test))"
   ]
  },
  {
   "cell_type": "code",
   "execution_count": 6,
   "id": "intimate-weekend",
   "metadata": {},
   "outputs": [
    {
     "name": "stderr",
     "output_type": "stream",
     "text": [
      "C:\\Users\\saamm\\anaconda3\\envs\\tensorflow_env\\lib\\site-packages\\sklearn\\model_selection\\_split.py:297: FutureWarning: Setting a random_state has no effect since shuffle is False. This will raise an error in 0.24. You should leave random_state to its default (None), or set shuffle=True.\n",
      "  FutureWarning\n"
     ]
    },
    {
     "name": "stdout",
     "output_type": "stream",
     "text": [
      "0.26618705035971224\n",
      "0.2158273381294964\n",
      "0.28776978417266186\n",
      "0.2805755395683453\n",
      "0.30935251798561153\n",
      "0.2608695652173913\n",
      "0.26811594202898553\n",
      "0.2463768115942029\n",
      "0.3333333333333333\n",
      "0.21739130434782608\n",
      "ortalama score: 0.2685799186737567\n"
     ]
    }
   ],
   "source": [
    "#modeli geliştirmek\n",
    "# k_flod\n",
    "\n",
    "#Veri seti okumak\n",
    "df=pd.read_csv(\"HCV_Egy.csv\")\n",
    "\n",
    "\n",
    "\n",
    "#Define X & Y\n",
    "y=df.Baselinehistological.values\n",
    "x_data=df.drop([\"Baselinehistological\"],axis=1).values\n",
    "\n",
    "#Normalzasiyon\n",
    "x=(x_data-np.min(x_data))/(np.max(x_data)-np.min(x_data))\n",
    "\n",
    "scores=[]\n",
    "\n",
    "kf=KFold(n_splits=10,random_state=1)\n",
    "mlpc=MLPClassifier(solver=\"lbfgs\",activation=\"identity\",max_iter=2000,alpha=0.1)\n",
    "\n",
    "for train_indexler,test_indexler in kf.split(x):\n",
    "    mlpc.fit(x[train_indexler],y[train_indexler])\n",
    "    score=mlpc.score(x[test_indexler],y[test_indexler])\n",
    "    scores.append(score)\n",
    "    print(score)\n",
    "    \n",
    "print(\"ortalama score:\",np.mean(scores))"
   ]
  },
  {
   "cell_type": "code",
   "execution_count": 45,
   "id": "bridal-genetics",
   "metadata": {},
   "outputs": [
    {
     "name": "stdout",
     "output_type": "stream",
     "text": [
      "Fitting 10 folds for each of 120 candidates, totalling 1200 fits\n"
     ]
    },
    {
     "name": "stderr",
     "output_type": "stream",
     "text": [
      "[Parallel(n_jobs=-1)]: Using backend LokyBackend with 8 concurrent workers.\n",
      "[Parallel(n_jobs=-1)]: Done  25 tasks      | elapsed:   16.5s\n",
      "[Parallel(n_jobs=-1)]: Done 146 tasks      | elapsed:   53.9s\n",
      "[Parallel(n_jobs=-1)]: Done 349 tasks      | elapsed:  1.6min\n",
      "[Parallel(n_jobs=-1)]: Done 632 tasks      | elapsed:  3.1min\n",
      "[Parallel(n_jobs=-1)]: Done 997 tasks      | elapsed:  7.9min\n",
      "[Parallel(n_jobs=-1)]: Done 1200 out of 1200 | elapsed: 10.5min finished\n"
     ]
    }
   ],
   "source": [
    "#Grid search\n",
    "\n",
    "#Veri seti okumak\n",
    "df=pd.read_csv(\"HCV_Egy.csv\")\n",
    "\n",
    "#Define X & Y\n",
    "y=df.Baselinehistological.values\n",
    "x_data=df.drop([\"Baselinehistological\"],axis=1)\n",
    "\n",
    "#Normalzasiyon\n",
    "x=(x_data-np.min(x_data))/(np.max(x_data)-np.min(x_data)).values\n",
    "\n",
    "#Split test & train\n",
    "x_train, x_test, y_train, y_test=train_test_split(x,y,test_size=0.2,random_state=1)\n",
    "\n",
    "\n",
    "#model oluşturma\n",
    "mlpc_params={\"alpha\":[0.1,0.01,0.001,0.0001],\n",
    "            \"hidden_layer_sizes\":[(10,10),(3,3,3),(100,100),(3,5,3),(50,50,50)],\n",
    "            \"solver\":[\"lbfgs\",\"adam\",\"sgd\"],\n",
    "            \"activation\":[\"logistic\",\"relu\"]}\n",
    "\n",
    "mlpc=MLPClassifier(random_state=1)\n",
    "\n",
    "mlpc_cv_model=GridSearchCV(mlpc,mlpc_params,cv=10,n_jobs=-1,verbose=2).fit(x_train,y_train)"
   ]
  },
  {
   "cell_type": "code",
   "execution_count": 46,
   "id": "subject-sherman",
   "metadata": {},
   "outputs": [
    {
     "name": "stdout",
     "output_type": "stream",
     "text": [
      "{'activation': 'relu', 'alpha': 0.01, 'hidden_layer_sizes': (50, 50, 50), 'solver': 'sgd'}\n"
     ]
    }
   ],
   "source": [
    "print(mlpc_cv_model.best_params_)"
   ]
  },
  {
   "cell_type": "code",
   "execution_count": 53,
   "id": "decimal-grace",
   "metadata": {},
   "outputs": [
    {
     "name": "stdout",
     "output_type": "stream",
     "text": [
      "score: 0.2815884476534296\n"
     ]
    }
   ],
   "source": [
    "mlpc_tuned=MLPClassifier(random_state=1,activation=\"relu\",alpha=0.01,hidden_layer_sizes=(50,50,50),solver=\"sgd\",max_iter=2000).fit(x_train,y_train)\n",
    "print(\"score:\",mlpc_tuned.score(x_test,y_test))"
   ]
  },
  {
   "cell_type": "code",
   "execution_count": 54,
   "id": "reserved-juvenile",
   "metadata": {},
   "outputs": [],
   "source": [
    "# Modeli değerlendirmek\n",
    "\n",
    "#Veri seti okumak\n",
    "df=pd.read_csv(\"HCV_Egy.csv\")\n",
    "\n",
    "#Define X & Y\n",
    "y=df.Baselinehistological.values\n",
    "x_data=df.drop([\"Baselinehistological\"],axis=1)\n",
    "\n",
    "\n",
    "#Normalzasiyon\n",
    "x=(x_data-np.min(x_data))/(np.max(x_data)-np.min(x_data)).values\n",
    "\n",
    "#Split test & train\n",
    "x_train, x_test, y_train, y_test=train_test_split(x,y,test_size=0.2,random_state=1) \n",
    "\n",
    "mlpc=MLPClassifier(random_state=1,activation=\"relu\",alpha=0.01,hidden_layer_sizes=(50,50,50),solver=\"sgd\",max_iter=2000).fit(x_train,y_train)\n",
    "\n"
   ]
  },
  {
   "cell_type": "code",
   "execution_count": 59,
   "id": "german-killing",
   "metadata": {},
   "outputs": [
    {
     "name": "stdout",
     "output_type": "stream",
     "text": [
      "[[ 1 24 14 32]\n",
      " [ 2 22 10 22]\n",
      " [ 1 26 22 33]\n",
      " [ 0 21 14 33]]\n",
      "0.2815884476534296\n",
      "f1 score: 0.2815884476534296\n"
     ]
    }
   ],
   "source": [
    "#prediction the Y\n",
    "y_pred=mlpc.predict(x_test)\n",
    "\n",
    "#confusion_matrix hesaplama\n",
    "cm=metrics.confusion_matrix(y_test,y_pred)\n",
    "print(cm)\n",
    "\n",
    "acc=accuracy_score(y_test,y_pred)\n",
    "print(acc)\n",
    "\n",
    "#f1_score hesaplama\n",
    "f1=metrics.f1_score(y_test,y_pred,average='micro')\n",
    "print(\"f1 score:\",f1)"
   ]
  },
  {
   "cell_type": "code",
   "execution_count": 61,
   "id": "practical-proceeding",
   "metadata": {},
   "outputs": [],
   "source": [
    "#Keras\n",
    "#Veri seti okumak\n",
    "df=pd.read_csv(\"HCV_Egy.csv\")\n",
    "\n",
    "#Define X & Y\n",
    "y=df.Baselinehistological.values\n",
    "x_data=df.drop([\"Baselinehistological\"],axis=1)\n",
    "\n",
    "\n",
    "from sklearn.model_selection import train_test_split\n",
    "x_train, x_test,y_train,y_test=train_test_split(x_data,y,test_size=0.2,random_state=1)"
   ]
  },
  {
   "cell_type": "code",
   "execution_count": 67,
   "id": "ahead-valley",
   "metadata": {},
   "outputs": [],
   "source": [
    "#Keras modeli olusturma\n",
    "model=Sequential()\n",
    "model.add(Dense(12, input_dim=12, activation='relu'))\n",
    "model.add(BatchNormalization())\n",
    "\n",
    "model.add(Dense(8, activation='relu'))\n",
    "model.add(BatchNormalization())\n",
    "\n",
    "model.add(Dense(1, activation='relu'))\n",
    "model.add(BatchNormalization())"
   ]
  },
  {
   "cell_type": "code",
   "execution_count": 68,
   "id": "funny-proof",
   "metadata": {},
   "outputs": [],
   "source": [
    "#modeli paketleme\n",
    "model.compile(loss='binary_crossentropy', optimizer='adam', metrics=['accuracy'])\n"
   ]
  },
  {
   "cell_type": "code",
   "execution_count": 71,
   "id": "direct-cartoon",
   "metadata": {},
   "outputs": [
    {
     "name": "stdout",
     "output_type": "stream",
     "text": [
      "Train on 1108 samples, validate on 277 samples\n",
      "Epoch 1/50\n",
      "1108/1108 [==============================] - 0s 204us/step - loss: -6.4893 - accuracy: 0.1787 - val_loss: 1.6140 - val_accuracy: 0.1552\n",
      "Epoch 2/50\n",
      "1108/1108 [==============================] - 0s 191us/step - loss: -6.9880 - accuracy: 0.1769 - val_loss: -4.2777 - val_accuracy: 0.1913\n",
      "Epoch 3/50\n",
      "1108/1108 [==============================] - 0s 195us/step - loss: -7.2797 - accuracy: 0.1733 - val_loss: -12.5687 - val_accuracy: 0.1986\n",
      "Epoch 4/50\n",
      "1108/1108 [==============================] - 0s 192us/step - loss: -6.6835 - accuracy: 0.1823 - val_loss: -10.9326 - val_accuracy: 0.1949\n",
      "Epoch 5/50\n",
      "1108/1108 [==============================] - 0s 195us/step - loss: -7.0709 - accuracy: 0.1850 - val_loss: -9.3265 - val_accuracy: 0.1877\n",
      "Epoch 6/50\n",
      "1108/1108 [==============================] - 0s 204us/step - loss: -7.7035 - accuracy: 0.1859 - val_loss: -8.8422 - val_accuracy: 0.1697\n",
      "Epoch 7/50\n",
      "1108/1108 [==============================] - 0s 208us/step - loss: -7.9905 - accuracy: 0.2004 - val_loss: -8.6759 - val_accuracy: 0.1697\n",
      "Epoch 8/50\n",
      "1108/1108 [==============================] - 0s 208us/step - loss: -8.4423 - accuracy: 0.1886 - val_loss: -8.6728 - val_accuracy: 0.1697\n",
      "Epoch 9/50\n",
      "1108/1108 [==============================] - 0s 227us/step - loss: -8.8454 - accuracy: 0.1832 - val_loss: -8.5907 - val_accuracy: 0.1661\n",
      "Epoch 10/50\n",
      "1108/1108 [==============================] - 0s 219us/step - loss: -8.9810 - accuracy: 0.1913 - val_loss: -9.4956 - val_accuracy: 0.1661\n",
      "Epoch 11/50\n",
      "1108/1108 [==============================] - 0s 208us/step - loss: -9.1169 - accuracy: 0.1940 - val_loss: -9.9978 - val_accuracy: 0.1733\n",
      "Epoch 12/50\n",
      "1108/1108 [==============================] - 0s 216us/step - loss: -10.3214 - accuracy: 0.1877 - val_loss: -9.6550 - val_accuracy: 0.1769\n",
      "Epoch 13/50\n",
      "1108/1108 [==============================] - 0s 208us/step - loss: -9.8810 - accuracy: 0.1977 - val_loss: -9.9947 - val_accuracy: 0.1877\n",
      "Epoch 14/50\n",
      "1108/1108 [==============================] - 0s 217us/step - loss: -10.5208 - accuracy: 0.2049 - val_loss: -11.8083 - val_accuracy: 0.1949\n",
      "Epoch 15/50\n",
      "1108/1108 [==============================] - 0s 235us/step - loss: -11.3185 - accuracy: 0.2031 - val_loss: -11.4946 - val_accuracy: 0.1986\n",
      "Epoch 16/50\n",
      "1108/1108 [==============================] - 0s 229us/step - loss: -10.8290 - accuracy: 0.1886 - val_loss: -12.0647 - val_accuracy: 0.2022\n",
      "Epoch 17/50\n",
      "1108/1108 [==============================] - 0s 211us/step - loss: -11.7337 - accuracy: 0.1841 - val_loss: -12.2812 - val_accuracy: 0.2022\n",
      "Epoch 18/50\n",
      "1108/1108 [==============================] - 0s 199us/step - loss: -12.0761 - accuracy: 0.2004 - val_loss: -11.1911 - val_accuracy: 0.2022\n",
      "Epoch 19/50\n",
      "1108/1108 [==============================] - 0s 197us/step - loss: -11.4913 - accuracy: 0.1968 - val_loss: -12.7598 - val_accuracy: 0.1913\n",
      "Epoch 20/50\n",
      "1108/1108 [==============================] - 0s 221us/step - loss: -10.5043 - accuracy: 0.2130 - val_loss: -19.0540 - val_accuracy: 0.2202\n",
      "Epoch 21/50\n",
      "1108/1108 [==============================] - 0s 207us/step - loss: -12.0666 - accuracy: 0.1931 - val_loss: -17.5370 - val_accuracy: 0.2238\n",
      "Epoch 22/50\n",
      "1108/1108 [==============================] - 0s 206us/step - loss: -12.9494 - accuracy: 0.2031 - val_loss: -16.6477 - val_accuracy: 0.2130\n",
      "Epoch 23/50\n",
      "1108/1108 [==============================] - 0s 218us/step - loss: -13.3526 - accuracy: 0.1995 - val_loss: -14.9970 - val_accuracy: 0.1986\n",
      "Epoch 24/50\n",
      "1108/1108 [==============================] - 0s 197us/step - loss: -13.4403 - accuracy: 0.2121 - val_loss: -14.4279 - val_accuracy: 0.1913\n",
      "Epoch 25/50\n",
      "1108/1108 [==============================] - 0s 215us/step - loss: -13.1072 - accuracy: 0.2112 - val_loss: -14.5139 - val_accuracy: 0.1913\n",
      "Epoch 26/50\n",
      "1108/1108 [==============================] - 0s 206us/step - loss: -13.1829 - accuracy: 0.2121 - val_loss: -14.0795 - val_accuracy: 0.1913\n",
      "Epoch 27/50\n",
      "1108/1108 [==============================] - 0s 199us/step - loss: -14.0956 - accuracy: 0.2121 - val_loss: -13.2312 - val_accuracy: 0.1877\n",
      "Epoch 28/50\n",
      "1108/1108 [==============================] - 0s 208us/step - loss: -14.0109 - accuracy: 0.2112 - val_loss: -13.4635 - val_accuracy: 0.1913\n",
      "Epoch 29/50\n",
      "1108/1108 [==============================] - 0s 218us/step - loss: -14.3652 - accuracy: 0.2058 - val_loss: -12.8358 - val_accuracy: 0.1841\n",
      "Epoch 30/50\n",
      "1108/1108 [==============================] - 0s 218us/step - loss: -14.7155 - accuracy: 0.2040 - val_loss: -13.0903 - val_accuracy: 0.2022\n",
      "Epoch 31/50\n",
      "1108/1108 [==============================] - 0s 218us/step - loss: -14.9673 - accuracy: 0.2121 - val_loss: -12.9797 - val_accuracy: 0.1841\n",
      "Epoch 32/50\n",
      "1108/1108 [==============================] - 0s 220us/step - loss: -15.1876 - accuracy: 0.2166 - val_loss: -13.3623 - val_accuracy: 0.1877\n",
      "Epoch 33/50\n",
      "1108/1108 [==============================] - 0s 211us/step - loss: -15.2400 - accuracy: 0.2013 - val_loss: -12.8129 - val_accuracy: 0.1877\n",
      "Epoch 34/50\n",
      "1108/1108 [==============================] - 0s 221us/step - loss: -15.1464 - accuracy: 0.1995 - val_loss: -13.3319 - val_accuracy: 0.1877\n",
      "Epoch 35/50\n",
      "1108/1108 [==============================] - 0s 227us/step - loss: -15.0169 - accuracy: 0.2112 - val_loss: -13.3786 - val_accuracy: 0.1913\n",
      "Epoch 36/50\n",
      "1108/1108 [==============================] - 0s 207us/step - loss: -15.4842 - accuracy: 0.2094 - val_loss: -14.3162 - val_accuracy: 0.1949\n",
      "Epoch 37/50\n",
      "1108/1108 [==============================] - 0s 199us/step - loss: -15.2780 - accuracy: 0.2004 - val_loss: -14.2896 - val_accuracy: 0.1986\n",
      "Epoch 38/50\n",
      "1108/1108 [==============================] - 0s 190us/step - loss: -15.4257 - accuracy: 0.2347 - val_loss: -15.1669 - val_accuracy: 0.2094\n",
      "Epoch 39/50\n",
      "1108/1108 [==============================] - 0s 201us/step - loss: -15.7804 - accuracy: 0.2130 - val_loss: -15.6538 - val_accuracy: 0.2130\n",
      "Epoch 40/50\n",
      "1108/1108 [==============================] - 0s 198us/step - loss: -15.1423 - accuracy: 0.2130 - val_loss: -14.4050 - val_accuracy: 0.2058\n",
      "Epoch 41/50\n",
      "1108/1108 [==============================] - 0s 198us/step - loss: -15.5520 - accuracy: 0.2013 - val_loss: -14.2392 - val_accuracy: 0.1986\n",
      "Epoch 42/50\n",
      "1108/1108 [==============================] - 0s 194us/step - loss: -16.2225 - accuracy: 0.2040 - val_loss: -15.2592 - val_accuracy: 0.1913\n",
      "Epoch 43/50\n",
      "1108/1108 [==============================] - 0s 197us/step - loss: -16.0331 - accuracy: 0.2067 - val_loss: -15.6058 - val_accuracy: 0.1986\n",
      "Epoch 44/50\n",
      "1108/1108 [==============================] - 0s 196us/step - loss: -16.3894 - accuracy: 0.2175 - val_loss: -15.5894 - val_accuracy: 0.2022\n",
      "Epoch 45/50\n",
      "1108/1108 [==============================] - 0s 190us/step - loss: -16.5444 - accuracy: 0.2211 - val_loss: -15.8004 - val_accuracy: 0.1986\n",
      "Epoch 46/50\n",
      "1108/1108 [==============================] - 0s 192us/step - loss: -16.4516 - accuracy: 0.2229 - val_loss: -16.1449 - val_accuracy: 0.1986\n",
      "Epoch 47/50\n",
      "1108/1108 [==============================] - 0s 192us/step - loss: -15.9753 - accuracy: 0.2076 - val_loss: -15.6000 - val_accuracy: 0.1949\n",
      "Epoch 48/50\n",
      "1108/1108 [==============================] - 0s 195us/step - loss: -16.6146 - accuracy: 0.2238 - val_loss: -16.2343 - val_accuracy: 0.1986\n",
      "Epoch 49/50\n",
      "1108/1108 [==============================] - 0s 205us/step - loss: -16.8034 - accuracy: 0.2238 - val_loss: -15.9119 - val_accuracy: 0.1986\n",
      "Epoch 50/50\n",
      "1108/1108 [==============================] - 0s 227us/step - loss: -16.9803 - accuracy: 0.2220 - val_loss: -15.2556 - val_accuracy: 0.1949\n"
     ]
    }
   ],
   "source": [
    "egitim=model.fit(x_train,y_train,epochs=50,batch_size=20,validation_data=(x_test,y_test))"
   ]
  },
  {
   "cell_type": "code",
   "execution_count": 74,
   "id": "middle-railway",
   "metadata": {},
   "outputs": [
    {
     "data": {
      "image/png": "[encoded data removed]",
      "text/plain": [
       "<Figure size 432x288 with 1 Axes>"
      ]
     },
     "metadata": {
      "needs_background": "light"
     },
     "output_type": "display_data"
    }
   ],
   "source": [
    "#bizim modelimizin accuracy eğrileri çizmek\n",
    "plt.plot(egitim.history[\"accuracy\"])\n",
    "plt.plot(egitim.history[\"val_accuracy\"])\n",
    "plt.show()"
   ]
  },
  {
   "cell_type": "code",
   "execution_count": 75,
   "id": "regulated-causing",
   "metadata": {},
   "outputs": [
    {
     "name": "stdout",
     "output_type": "stream",
     "text": [
      "[[ 0  0  0  0  0]\n",
      " [71  0  0  0  0]\n",
      " [56  0  0  0  0]\n",
      " [82  0  0  0  0]\n",
      " [68  0  0  0  0]]\n"
     ]
    }
   ],
   "source": [
    "y_pred=model.predict(x_test)\n",
    "y_pred=np.argmax(y_pred,axis=1)\n",
    "cm=metrics.confusion_matrix(y_test,y_pred)\n",
    "print(cm)"
   ]
  },
  {
   "cell_type": "code",
   "execution_count": null,
   "id": "resistant-transition",
   "metadata": {},
   "outputs": [],
   "source": []
  }
 ],
 "metadata": {
  "kernelspec": {
   "display_name": "Python 3",
   "language": "python",
   "name": "python3"
  },
  "language_info": {
   "codemirror_mode": {
    "name": "ipython",
    "version": 3
   },
   "file_extension": ".py",
   "mimetype": "text/x-python",
   "name": "python",
   "nbconvert_exporter": "python",
   "pygments_lexer": "ipython3",
   "version": "3.6.12"
  }
 },
 "nbformat": 4,
 "nbformat_minor": 5
}
